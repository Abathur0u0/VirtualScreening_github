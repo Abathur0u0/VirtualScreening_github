{
 "cells": [
  {
   "cell_type": "code",
   "execution_count": 1,
   "id": "4433d12d-8917-4702-89ad-a76fd31b1aea",
   "metadata": {},
   "outputs": [
    {
     "name": "stdout",
     "output_type": "stream",
     "text": [
      "Requirement already satisfied: pandas in /Users/yusinmac/opt/anaconda3/lib/python3.8/site-packages (2.0.3)\n",
      "Collecting fancyimpute\n",
      "  Downloading fancyimpute-0.7.0.tar.gz (25 kB)\n",
      "  Preparing metadata (setup.py) ... \u001b[?25ldone\n",
      "\u001b[?25hRequirement already satisfied: openpyxl in /Users/yusinmac/opt/anaconda3/lib/python3.8/site-packages (3.0.10)\n",
      "Requirement already satisfied: numpy>=1.20.3 in /Users/yusinmac/opt/anaconda3/lib/python3.8/site-packages (from pandas) (1.23.1)\n",
      "Requirement already satisfied: tzdata>=2022.1 in /Users/yusinmac/opt/anaconda3/lib/python3.8/site-packages (from pandas) (2022.7)\n",
      "Requirement already satisfied: pytz>=2020.1 in /Users/yusinmac/opt/anaconda3/lib/python3.8/site-packages (from pandas) (2022.7)\n",
      "Requirement already satisfied: python-dateutil>=2.8.2 in /Users/yusinmac/opt/anaconda3/lib/python3.8/site-packages (from pandas) (2.8.2)\n",
      "Collecting knnimpute>=0.1.0\n",
      "  Downloading knnimpute-0.1.0.tar.gz (8.3 kB)\n",
      "  Preparing metadata (setup.py) ... \u001b[?25ldone\n",
      "\u001b[?25hRequirement already satisfied: scikit-learn>=0.24.2 in /Users/yusinmac/opt/anaconda3/lib/python3.8/site-packages (from fancyimpute) (1.0.2)\n",
      "Collecting cvxpy\n",
      "  Downloading cvxpy-1.4.1-cp38-cp38-macosx_10_9_x86_64.whl (1.1 MB)\n",
      "\u001b[2K     \u001b[90m━━━━━━━━━━━━━━━━━━━━━━━━━━━━━━━━━━━━━━━━\u001b[0m \u001b[32m1.1/1.1 MB\u001b[0m \u001b[31m3.1 MB/s\u001b[0m eta \u001b[36m0:00:00\u001b[0m00:01\u001b[0m00:01\u001b[0m0m\n",
      "\u001b[?25hCollecting cvxopt\n",
      "  Downloading cvxopt-1.3.2-cp38-cp38-macosx_10_9_x86_64.whl (13.8 MB)\n",
      "\u001b[2K     \u001b[90m━━━━━━━━━━━━━━━━━━━━━━━━━━━━━━━━━━━━━━━━\u001b[0m \u001b[32m13.8/13.8 MB\u001b[0m \u001b[31m1.5 MB/s\u001b[0m eta \u001b[36m0:00:00\u001b[0m00:01\u001b[0m00:01\u001b[0m\n",
      "\u001b[?25hRequirement already satisfied: pytest in /Users/yusinmac/opt/anaconda3/lib/python3.8/site-packages (from fancyimpute) (7.1.2)\n",
      "Requirement already satisfied: nose in /Users/yusinmac/opt/anaconda3/lib/python3.8/site-packages (from fancyimpute) (1.3.7)\n",
      "Requirement already satisfied: et_xmlfile in /Users/yusinmac/opt/anaconda3/lib/python3.8/site-packages (from openpyxl) (1.1.0)\n",
      "Requirement already satisfied: six in /Users/yusinmac/opt/anaconda3/lib/python3.8/site-packages (from knnimpute>=0.1.0->fancyimpute) (1.16.0)\n",
      "Requirement already satisfied: joblib>=0.11 in /Users/yusinmac/opt/anaconda3/lib/python3.8/site-packages (from scikit-learn>=0.24.2->fancyimpute) (1.1.1)\n",
      "Requirement already satisfied: scipy>=1.1.0 in /Users/yusinmac/opt/anaconda3/lib/python3.8/site-packages (from scikit-learn>=0.24.2->fancyimpute) (1.10.1)\n",
      "Requirement already satisfied: threadpoolctl>=2.0.0 in /Users/yusinmac/opt/anaconda3/lib/python3.8/site-packages (from scikit-learn>=0.24.2->fancyimpute) (2.2.0)\n",
      "Collecting clarabel>=0.5.0\n",
      "  Downloading clarabel-0.6.0-cp37-abi3-macosx_10_9_x86_64.macosx_11_0_arm64.macosx_10_9_universal2.whl (987 kB)\n",
      "\u001b[2K     \u001b[90m━━━━━━━━━━━━━━━━━━━━━━━━━━━━━━━━━━━━━━━\u001b[0m \u001b[32m987.4/987.4 kB\u001b[0m \u001b[31m5.9 MB/s\u001b[0m eta \u001b[36m0:00:00\u001b[0m00:01\u001b[0m00:01\u001b[0m\n",
      "\u001b[?25hCollecting osqp>=0.6.2\n",
      "  Downloading osqp-0.6.3-cp38-cp38-macosx_10_9_x86_64.whl (252 kB)\n",
      "\u001b[2K     \u001b[90m━━━━━━━━━━━━━━━━━━━━━━━━━━━━━━━━━━━━━━━\u001b[0m \u001b[32m252.7/252.7 kB\u001b[0m \u001b[31m6.6 MB/s\u001b[0m eta \u001b[36m0:00:00\u001b[0ma \u001b[36m0:00:01\u001b[0m\n",
      "\u001b[?25hCollecting ecos>=2\n",
      "  Downloading ecos-2.0.12-cp38-cp38-macosx_10_9_x86_64.whl (90 kB)\n",
      "\u001b[2K     \u001b[90m━━━━━━━━━━━━━━━━━━━━━━━━━━━━━━━━━━━━━━━━\u001b[0m \u001b[32m90.6/90.6 kB\u001b[0m \u001b[31m3.0 MB/s\u001b[0m eta \u001b[36m0:00:00\u001b[0m\n",
      "\u001b[?25hCollecting pybind11\n",
      "  Using cached pybind11-2.11.1-py3-none-any.whl (227 kB)\n",
      "Collecting scs>=3.0\n",
      "  Downloading scs-3.2.3-cp38-cp38-macosx_10_9_x86_64.whl (11.6 MB)\n",
      "\u001b[2K     \u001b[90m━━━━━━━━━━━━━━━━━━━━━━━━━━━━━━━━━━━━━━━━\u001b[0m \u001b[32m11.6/11.6 MB\u001b[0m \u001b[31m8.0 MB/s\u001b[0m eta \u001b[36m0:00:00\u001b[0m00:01\u001b[0m00:01\u001b[0m\n",
      "\u001b[?25hRequirement already satisfied: attrs>=19.2.0 in /Users/yusinmac/opt/anaconda3/lib/python3.8/site-packages (from pytest->fancyimpute) (22.1.0)\n",
      "Requirement already satisfied: iniconfig in /Users/yusinmac/opt/anaconda3/lib/python3.8/site-packages (from pytest->fancyimpute) (1.1.1)\n",
      "Requirement already satisfied: packaging in /Users/yusinmac/opt/anaconda3/lib/python3.8/site-packages (from pytest->fancyimpute) (22.0)\n",
      "Requirement already satisfied: pluggy<2.0,>=0.12 in /Users/yusinmac/opt/anaconda3/lib/python3.8/site-packages (from pytest->fancyimpute) (1.0.0)\n",
      "Requirement already satisfied: py>=1.8.2 in /Users/yusinmac/opt/anaconda3/lib/python3.8/site-packages (from pytest->fancyimpute) (1.11.0)\n",
      "Requirement already satisfied: tomli>=1.0.0 in /Users/yusinmac/opt/anaconda3/lib/python3.8/site-packages (from pytest->fancyimpute) (2.0.1)\n",
      "Collecting qdldl\n",
      "  Downloading qdldl-0.1.7.post0-cp38-cp38-macosx_10_9_x86_64.whl (105 kB)\n",
      "\u001b[2K     \u001b[90m━━━━━━━━━━━━━━━━━━━━━━━━━━━━━━━━━━━━━━━\u001b[0m \u001b[32m105.1/105.1 kB\u001b[0m \u001b[31m3.7 MB/s\u001b[0m eta \u001b[36m0:00:00\u001b[0m\n",
      "\u001b[?25hBuilding wheels for collected packages: fancyimpute, knnimpute\n",
      "  Building wheel for fancyimpute (setup.py) ... \u001b[?25ldone\n",
      "\u001b[?25h  Created wheel for fancyimpute: filename=fancyimpute-0.7.0-py3-none-any.whl size=29881 sha256=2fef5c5915bd2ee770dafda3c5bcede459697c719a7d94cb89324e44107d3ffc\n",
      "  Stored in directory: /Users/yusinmac/Library/Caches/pip/wheels/d9/18/ef/74f9d7270055362863f88f4f92d974c6669c725eb835d50f67\n",
      "  Building wheel for knnimpute (setup.py) ... \u001b[?25ldone\n",
      "\u001b[?25h  Created wheel for knnimpute: filename=knnimpute-0.1.0-py3-none-any.whl size=11335 sha256=4c4a0ee2d0cf0b8df1d8a8d5c9d5247bb96ce0b5b91d58881177dd49bf574029\n",
      "  Stored in directory: /Users/yusinmac/Library/Caches/pip/wheels/1d/68/f7/0a7b4da2a46949f5561551ddc3fe3d35407220eb3a2174a7db\n",
      "Successfully built fancyimpute knnimpute\n",
      "Installing collected packages: pybind11, knnimpute, cvxopt, scs, qdldl, ecos, clarabel, osqp, cvxpy, fancyimpute\n",
      "Successfully installed clarabel-0.6.0 cvxopt-1.3.2 cvxpy-1.4.1 ecos-2.0.12 fancyimpute-0.7.0 knnimpute-0.1.0 osqp-0.6.3 pybind11-2.11.1 qdldl-0.1.7.post0 scs-3.2.3\n",
      "Note: you may need to restart the kernel to use updated packages.\n"
     ]
    }
   ],
   "source": [
    "pip install pandas fancyimpute openpyxl\n"
   ]
  }
 ],
 "metadata": {
  "kernelspec": {
   "display_name": "Python 3 (ipykernel)",
   "language": "python",
   "name": "python3"
  },
  "language_info": {
   "codemirror_mode": {
    "name": "ipython",
    "version": 3
   },
   "file_extension": ".py",
   "mimetype": "text/x-python",
   "name": "python",
   "nbconvert_exporter": "python",
   "pygments_lexer": "ipython3",
   "version": "3.8.3"
  }
 },
 "nbformat": 4,
 "nbformat_minor": 5
}
